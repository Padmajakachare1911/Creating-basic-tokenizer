{
 "cells": [
  {
   "cell_type": "code",
   "execution_count": 1,
   "id": "1a9a5829",
   "metadata": {},
   "outputs": [
    {
     "name": "stdout",
     "output_type": "stream",
     "text": [
      "Collecting scipy\n",
      "  Obtaining dependency information for scipy from https://files.pythonhosted.org/packages/ab/a7/0ddaf514ce8a8714f6ed243a2b391b41dbb65251affe21ee3077ec45ea9a/scipy-1.15.3-cp311-cp311-win_amd64.whl.metadata\n",
      "  Using cached scipy-1.15.3-cp311-cp311-win_amd64.whl.metadata (60 kB)\n",
      "Collecting scikit-learn\n",
      "  Obtaining dependency information for scikit-learn from https://files.pythonhosted.org/packages/a1/a6/c5b78606743a1f28eae8f11973de6613a5ee87366796583fb74c67d54939/scikit_learn-1.6.1-cp311-cp311-win_amd64.whl.metadata\n",
      "  Using cached scikit_learn-1.6.1-cp311-cp311-win_amd64.whl.metadata (15 kB)\n",
      "Collecting numpy==1.26.4\n",
      "  Obtaining dependency information for numpy==1.26.4 from https://files.pythonhosted.org/packages/3f/6b/5610004206cf7f8e7ad91c5a85a8c71b2f2f8051a0c0c4d5916b76d6cbb2/numpy-1.26.4-cp311-cp311-win_amd64.whl.metadata\n",
      "  Using cached numpy-1.26.4-cp311-cp311-win_amd64.whl.metadata (61 kB)\n",
      "Collecting joblib>=1.2.0 (from scikit-learn)\n",
      "  Obtaining dependency information for joblib>=1.2.0 from https://files.pythonhosted.org/packages/7d/4f/1195bbac8e0c2acc5f740661631d8d750dc38d4a32b23ee5df3cde6f4e0d/joblib-1.5.1-py3-none-any.whl.metadata\n",
      "  Using cached joblib-1.5.1-py3-none-any.whl.metadata (5.6 kB)\n",
      "Collecting threadpoolctl>=3.1.0 (from scikit-learn)\n",
      "  Obtaining dependency information for threadpoolctl>=3.1.0 from https://files.pythonhosted.org/packages/32/d5/f9a850d79b0851d1d4ef6456097579a9005b31fea68726a4ae5f2d82ddd9/threadpoolctl-3.6.0-py3-none-any.whl.metadata\n",
      "  Using cached threadpoolctl-3.6.0-py3-none-any.whl.metadata (13 kB)\n",
      "Using cached numpy-1.26.4-cp311-cp311-win_amd64.whl (15.8 MB)\n",
      "Using cached scipy-1.15.3-cp311-cp311-win_amd64.whl (41.2 MB)\n",
      "Using cached scikit_learn-1.6.1-cp311-cp311-win_amd64.whl (11.1 MB)\n",
      "Using cached joblib-1.5.1-py3-none-any.whl (307 kB)\n",
      "Using cached threadpoolctl-3.6.0-py3-none-any.whl (18 kB)\n",
      "Installing collected packages: threadpoolctl, numpy, joblib, scipy, scikit-learn\n",
      "  Attempting uninstall: threadpoolctl\n",
      "    Found existing installation: threadpoolctl 2.2.0\n",
      "    Uninstalling threadpoolctl-2.2.0:\n",
      "      Successfully uninstalled threadpoolctl-2.2.0\n",
      "  Attempting uninstall: numpy\n",
      "    Found existing installation: numpy 2.0.2\n",
      "    Uninstalling numpy-2.0.2:\n",
      "      Successfully uninstalled numpy-2.0.2\n"
     ]
    },
    {
     "name": "stderr",
     "output_type": "stream",
     "text": [
      "ERROR: Could not install packages due to an OSError: [WinError 5] Access is denied: 'C:\\\\Users\\\\kacha\\\\anaconda3\\\\Lib\\\\site-packages\\\\~umpy.libs\\\\libscipy_openblas64_-caad452230ae4ddb57899b8b3a33c55c.dll'\n",
      "Consider using the `--user` option or check the permissions.\n",
      "\n"
     ]
    }
   ],
   "source": [
    "#!pip install --upgrade --force-reinstall scipy scikit-learn numpy==1.26.4\n",
    "!pip install -r requirements.txt"
   ]
  },
  {
   "cell_type": "code",
   "execution_count": 2,
   "id": "861dc392",
   "metadata": {},
   "outputs": [],
   "source": [
    "import re\n",
    "import string\n",
    "from sklearn.metrics import precision_score, recall_score, confusion_matrix, accuracy_score"
   ]
  },
  {
   "cell_type": "code",
   "execution_count": 3,
   "id": "78928069",
   "metadata": {},
   "outputs": [],
   "source": [
    "# Sample sentences for testing\n",
    "sample_sentences = [\n",
    "    \"Hello! How are you doing today?\",\n",
    "    \"This is a simple tokenizer test-case.\",\n",
    "    \"Let's see how well it performs on punctuation and numbers like 123!\",\n",
    "    \"Tokenizer should remove punctuations, handle spaces and return words properly.\",\n",
    "]\n"
   ]
  },
  {
   "cell_type": "code",
   "execution_count": 4,
   "id": "b987d248",
   "metadata": {},
   "outputs": [],
   "source": [
    "def basic_tokenizer(text):\n",
    "    # Convert to lowercase\n",
    "    text = text.lower()\n",
    "    \n",
    "    # Remove punctuation\n",
    "    text = text.translate(str.maketrans('', '', string.punctuation))\n",
    "    \n",
    "    # Split into words using regex to avoid empty tokens\n",
    "    tokens = re.findall(r'\\b\\w+\\b', text)\n",
    "    \n",
    "    return tokens\n"
   ]
  },
  {
   "cell_type": "code",
   "execution_count": 5,
   "id": "8bcc4ada",
   "metadata": {},
   "outputs": [
    {
     "name": "stdout",
     "output_type": "stream",
     "text": [
      "Sentence 1: Hello! How are you doing today?\n",
      "Tokens: ['hello', 'how', 'are', 'you', 'doing', 'today']\n",
      "--------------------------------------------------\n",
      "Sentence 2: This is a simple tokenizer test-case.\n",
      "Tokens: ['this', 'is', 'a', 'simple', 'tokenizer', 'testcase']\n",
      "--------------------------------------------------\n",
      "Sentence 3: Let's see how well it performs on punctuation and numbers like 123!\n",
      "Tokens: ['lets', 'see', 'how', 'well', 'it', 'performs', 'on', 'punctuation', 'and', 'numbers', 'like', '123']\n",
      "--------------------------------------------------\n",
      "Sentence 4: Tokenizer should remove punctuations, handle spaces and return words properly.\n",
      "Tokens: ['tokenizer', 'should', 'remove', 'punctuations', 'handle', 'spaces', 'and', 'return', 'words', 'properly']\n",
      "--------------------------------------------------\n"
     ]
    }
   ],
   "source": [
    "# Test tokenizer\n",
    "for i, sentence in enumerate(sample_sentences):\n",
    "    print(f\"Sentence {i+1}: {sentence}\")\n",
    "    print(\"Tokens:\", basic_tokenizer(sentence))\n",
    "    print(\"-\" * 50)"
   ]
  },
  {
   "cell_type": "code",
   "execution_count": 6,
   "id": "308544df",
   "metadata": {},
   "outputs": [],
   "source": [
    "# we simulate token comparison for evaluation.\n",
    "y_true = [\n",
    "    ['hello', 'how', 'are', 'you', 'doing', 'today'],\n",
    "    ['this', 'is', 'a', 'simple', 'tokenizer', 'testcase'],\n",
    "]\n",
    "\n",
    "y_pred = [\n",
    "    basic_tokenizer(sample_sentences[0]),\n",
    "    basic_tokenizer(sample_sentences[1]),\n",
    "]\n"
   ]
  },
  {
   "cell_type": "code",
   "execution_count": 7,
   "id": "d5c23ccb",
   "metadata": {},
   "outputs": [],
   "source": [
    "# Flatten and compare\n",
    "y_true_flat = [item for sublist in y_true for item in sublist]\n",
    "y_pred_flat = [item for sublist in y_pred for item in sublist]"
   ]
  },
  {
   "cell_type": "code",
   "execution_count": 8,
   "id": "1d7b0766",
   "metadata": {},
   "outputs": [],
   "source": [
    "# Make lengths equal for comparison (pad shorter list)\n",
    "min_len = min(len(y_true_flat), len(y_pred_flat))\n",
    "y_true_flat = y_true_flat[:min_len]\n",
    "y_pred_flat = y_pred_flat[:min_len]"
   ]
  },
  {
   "cell_type": "code",
   "execution_count": 9,
   "id": "61c688fe",
   "metadata": {},
   "outputs": [
    {
     "name": "stdout",
     "output_type": "stream",
     "text": [
      "\n",
      "--- Evaluation Metrics ---\n",
      "Confusion Matrix: [[1 0 0 0 0 0 0 0 0 0 0 0]\n",
      " [0 1 0 0 0 0 0 0 0 0 0 0]\n",
      " [0 0 1 0 0 0 0 0 0 0 0 0]\n",
      " [0 0 0 1 0 0 0 0 0 0 0 0]\n",
      " [0 0 0 0 1 0 0 0 0 0 0 0]\n",
      " [0 0 0 0 0 1 0 0 0 0 0 0]\n",
      " [0 0 0 0 0 0 1 0 0 0 0 0]\n",
      " [0 0 0 0 0 0 0 1 0 0 0 0]\n",
      " [0 0 0 0 0 0 0 0 1 0 0 0]\n",
      " [0 0 0 0 0 0 0 0 0 1 0 0]\n",
      " [0 0 0 0 0 0 0 0 0 0 1 0]\n",
      " [0 0 0 0 0 0 0 0 0 0 0 1]]\n",
      "Precision: 1.0\n",
      "Recall: 1.0\n",
      "Accuracy: 1.0\n"
     ]
    }
   ],
   "source": [
    "# Accuracy and Evaluation\n",
    "print(\"\\n--- Evaluation Metrics ---\")\n",
    "print(\"Confusion Matrix:\", confusion_matrix(y_true_flat, y_pred_flat, labels=list(set(y_true_flat))))\n",
    "print(\"Precision:\", precision_score(y_true_flat, y_pred_flat, average='micro'))\n",
    "print(\"Recall:\", recall_score(y_true_flat, y_pred_flat, average='micro'))\n",
    "print(\"Accuracy:\", accuracy_score(y_true_flat, y_pred_flat))"
   ]
  },
  {
   "cell_type": "code",
   "execution_count": null,
   "id": "da4742cb",
   "metadata": {},
   "outputs": [],
   "source": []
  }
 ],
 "metadata": {
  "kernelspec": {
   "display_name": "Python 3 (ipykernel)",
   "language": "python",
   "name": "python3"
  },
  "language_info": {
   "codemirror_mode": {
    "name": "ipython",
    "version": 3
   },
   "file_extension": ".py",
   "mimetype": "text/x-python",
   "name": "python",
   "nbconvert_exporter": "python",
   "pygments_lexer": "ipython3",
   "version": "3.11.4"
  }
 },
 "nbformat": 4,
 "nbformat_minor": 5
}
